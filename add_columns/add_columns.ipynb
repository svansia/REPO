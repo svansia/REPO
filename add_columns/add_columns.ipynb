{
 "cells": [
  {
   "cell_type": "code",
   "execution_count": 1,
   "metadata": {},
   "outputs": [],
   "source": [
    "import pandas as pd"
   ]
  },
  {
   "cell_type": "code",
   "execution_count": 2,
   "metadata": {},
   "outputs": [],
   "source": [
    "df = pd.read_csv(\"lng.csv\")"
   ]
  },
  {
   "cell_type": "code",
   "execution_count": 6,
   "metadata": {},
   "outputs": [
    {
     "data": {
      "text/plain": [
       "array(['First Name', 'Last Name', 'Title', 'Company',\n",
       "       'Company Name for Emails', 'Email', 'Email Status',\n",
       "       'Email Confidence', 'First Phone', 'Work Direct Phone',\n",
       "       'Home Phone', 'Mobile Phone', 'Corporate Phone', 'Other Phone',\n",
       "       'Stage', 'Lists', 'Last Contacted', '# Employees', 'Industry',\n",
       "       'Keywords', 'Person Linkedin Url', 'Website',\n",
       "       'Company Linkedin Url', 'Facebook Url', 'Twitter Url', 'City',\n",
       "       'State', 'Country', 'Company Address', 'Company City',\n",
       "       'Company State', 'Company Country', 'Company Phone',\n",
       "       'SEO Description', 'Technologies', 'Annual Revenue', 'Email Sent',\n",
       "       'Email Open', 'Email Bounced', 'Replied', 'Demoed',\n",
       "       'Number of Retail Locations', 'Apollo Contact Id',\n",
       "       'Apollo Account Id', 'conversational_title_plural',\n",
       "       'supernova_personalization', 'supernova_personalization.1',\n",
       "       'market_description_natural', 'sales_team', 'company_URL',\n",
       "       'client_statement', 'vertical', 'Salesforce ID'], dtype=object)"
      ]
     },
     "execution_count": 6,
     "metadata": {},
     "output_type": "execute_result"
    }
   ],
   "source": [
    "df.columns.values"
   ]
  },
  {
   "cell_type": "code",
   "execution_count": 7,
   "metadata": {},
   "outputs": [],
   "source": [
    "# relevant columns to keep\n",
    "cols = ['First Name', 'Last Name', 'Title', 'Company',\n",
    "       'Company Name for Emails', 'Email', 'Email Status',\n",
    "       'Email Confidence', 'First Phone', 'Work Direct Phone',\n",
    "       'Home Phone', 'Mobile Phone', 'Corporate Phone', 'Other Phone',\n",
    "       'Stage', 'Last Contacted', '# Employees', 'Industry',\n",
    "       'Keywords', 'Person Linkedin Url', 'Website',\n",
    "       'Company Linkedin Url', 'Facebook Url', 'Twitter Url', 'City',\n",
    "       'State', 'Country', 'Company Address', 'Company City',\n",
    "       'Company State', 'Company Country', 'Company Phone',\n",
    "       'SEO Description', 'Technologies', 'Annual Revenue',\n",
    "       'Number of Retail Locations']"
   ]
  },
  {
   "cell_type": "code",
   "execution_count": null,
   "metadata": {},
   "outputs": [],
   "source": [
    "# remove all columns from df that are not relevant and save to df"
   ]
  },
  {
   "cell_type": "code",
   "execution_count": null,
   "metadata": {},
   "outputs": [],
   "source": [
    "# list out all new data points from linkedin profile\n",
    "# linkedind_url\n",
    "# name\n",
    "# headline\n",
    "# description"
   ]
  },
  {
   "cell_type": "code",
   "execution_count": 3,
   "metadata": {},
   "outputs": [],
   "source": [
    "# iterate over linkedin URLs, store profile data in a dictionary\n",
    "# append dictionary to \"profiles\"\n",
    "profiles = []"
   ]
  },
  {
   "cell_type": "code",
   "execution_count": 4,
   "metadata": {},
   "outputs": [],
   "source": [
    "# create a new dataframe scraped_df from \"profiles\""
   ]
  },
  {
   "cell_type": "code",
   "execution_count": 5,
   "metadata": {},
   "outputs": [],
   "source": [
    "# merge df and scraped_df (use linkedin_url as unique column)"
   ]
  },
  {
   "cell_type": "code",
   "execution_count": null,
   "metadata": {},
   "outputs": [],
   "source": [
    "# only keep columns that are relevant to us"
   ]
  }
 ],
 "metadata": {
  "kernelspec": {
   "display_name": "Python 3",
   "language": "python",
   "name": "python3"
  },
  "language_info": {
   "codemirror_mode": {
    "name": "ipython",
    "version": 3
   },
   "file_extension": ".py",
   "mimetype": "text/x-python",
   "name": "python",
   "nbconvert_exporter": "python",
   "pygments_lexer": "ipython3",
   "version": "3.6.5"
  }
 },
 "nbformat": 4,
 "nbformat_minor": 2
}
