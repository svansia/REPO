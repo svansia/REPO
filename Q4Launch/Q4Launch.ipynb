{
 "cells": [
  {
   "cell_type": "code",
   "execution_count": 1,
   "metadata": {},
   "outputs": [],
   "source": [
    "from selenium import webdriver\n",
    "import pandas as pd\n",
    "\n",
    "email_text = 'am.houlihan@gmail.com'\n",
    "password_text = 'Katniss8'\n",
    "file_name = \"q4launch.csv\"\n",
    "\n",
    "df = pd.read_csv(file_name)\n",
    "\n",
    "# good_file_name = 'good-' + file_name\n",
    "# try:\n",
    "#     df_good = pd.read_csv(good_file_name)\n",
    "# except:\n",
    "#     df_good = df.to_csv(good_file_name)\n",
    "    \n",
    "# bad_file_name = 'bad-' + file_name\n",
    "# try:\n",
    "#     df_bad = pd.read_csv(bad_file_name)\n",
    "# except:\n",
    "#     df_bad = df.to_csv(bad_file_name)\n",
    "    \n",
    "    \n",
    "options = webdriver.ChromeOptions()\n",
    "\n",
    "# options.add_argument('headless')\n",
    "\n",
    "# set the window size\n",
    "options.add_argument('window-size=1200x600')\n",
    "\n",
    "# initialize the driver\n",
    "driver = webdriver.Chrome(chrome_options=options)\n",
    "\n",
    "# https://www.linkedin.com/uas/login\n",
    "driver.get('https://www.linkedin.com/uas/login')\n",
    "\n",
    "# # # use css selectors to grab the login inputs\n",
    "email = driver.find_element_by_id('session_key-login')\n",
    "password = driver.find_element_by_id('session_password-login')\n",
    "login = driver.find_element_by_id('btn-primary')\n",
    "\n",
    "email.send_keys(email_text)\n",
    "password.send_keys(password_text)\n",
    "\n",
    "login.click()\n",
    "\n",
    "driver.implicitly_wait(5)"
   ]
  },
  {
   "cell_type": "code",
   "execution_count": 2,
   "metadata": {},
   "outputs": [],
   "source": [
    "df = df[(df['OTA Natural'].notnull()) & (df['prop_type'] != 'Homes')]"
   ]
  },
  {
   "cell_type": "code",
   "execution_count": 3,
   "metadata": {},
   "outputs": [
    {
     "data": {
      "text/plain": [
       "25"
      ]
     },
     "execution_count": 3,
     "metadata": {},
     "output_type": "execute_result"
    }
   ],
   "source": [
    "len(df)"
   ]
  },
  {
   "cell_type": "code",
   "execution_count": 4,
   "metadata": {},
   "outputs": [
    {
     "data": {
      "text/plain": [
       "0                        Radisson Hotel Plymouth Harbor\n",
       "1                                       Blackthorne Inn\n",
       "2                                  Maria Atwood Inn B&B\n",
       "3                                    Stockton Motor Inn\n",
       "4                                       Paragon Lodging\n",
       "5                                        Fishermens Inn\n",
       "6                                      Eight Gables Inn\n",
       "7                                    Farnam Guest House\n",
       "8                             The Wheeler Mansion Hotel\n",
       "9                                Blue Sky Cabin Rentals\n",
       "10                                   Wildcat Pet Resort\n",
       "11                            Hallmark Inns and Resorts\n",
       "12                                     Pet Hotel Hadley\n",
       "13                              Cedar Creek Cove Resort\n",
       "14               24 Henry and Village House Guesthouses\n",
       "15                                    Bayside Motor Inn\n",
       "16                                           Oswego Inn\n",
       "17                                       Dorrington Inn\n",
       "18                                   The View Point Inn\n",
       "19                                   Wagmore Pet Resort\n",
       "20    Captain Blighs Beaver Creek Lodge and Guide Se...\n",
       "21                     Kenburn Orchards Bed & Breakfast\n",
       "22                                Burnt Pine Plantation\n",
       "23                                          Coram Ranch\n",
       "24                                          Coram Ranch\n",
       "Name: Company Name for Emails, dtype: object"
      ]
     },
     "execution_count": 4,
     "metadata": {},
     "output_type": "execute_result"
    }
   ],
   "source": [
    "df['Company Name for Emails']"
   ]
  },
  {
   "cell_type": "code",
   "execution_count": 5,
   "metadata": {},
   "outputs": [
    {
     "data": {
      "text/plain": [
       "array(['Unnamed: 0', 'Unnamed: 0.1', 'Unnamed: 0.1.1', 'Unnamed: 0.1.1.1',\n",
       "       'Unnamed: 0.1.1.1.1', 'Unnamed: 0.1.1.1.1.1',\n",
       "       'Unnamed: 0.1.1.1.1.1.1', 'Unnamed: 0.1.1.1.1.1.1.1', 'First Name',\n",
       "       'Last Name', 'Title', 'Company', 'OTA Natural',\n",
       "       'Company Name for Emails', 'Email', 'Email Status',\n",
       "       'Email Confidence', 'First Phone', 'Work Direct Phone',\n",
       "       'Home Phone', 'Mobile Phone', 'Corporate Phone', 'Other Phone',\n",
       "       'Stage', 'Lists', 'Last Contacted', '# Employees', 'Industry',\n",
       "       'Keywords', 'Person Linkedin Url', 'Website',\n",
       "       'Company Linkedin Url', 'Facebook Url', 'Twitter Url', 'City',\n",
       "       'State', 'Country', 'Company Address', 'Company City',\n",
       "       'Company State', 'Company Country', 'Company Phone',\n",
       "       'SEO Description', 'Technologies', 'Annual Revenue', 'Email Sent',\n",
       "       'Email Open', 'Email Bounced', 'Replied', 'Demoed',\n",
       "       'Number of Retail Locations', 'ZP Contact Id', 'ZP Account Id',\n",
       "       'conversational_title_plural', 'supernova_personalization',\n",
       "       'supernova_personalization.1', 'market_description_natural',\n",
       "       'sales_team', 'company_URL', 'client_statement', 'Salesforce ID',\n",
       "       'domain', 'prop_type', 'property_type_plural',\n",
       "       'title_natural_plural', 'email', 'start'], dtype=object)"
      ]
     },
     "execution_count": 5,
     "metadata": {},
     "output_type": "execute_result"
    }
   ],
   "source": [
    "df.columns.values"
   ]
  },
  {
   "cell_type": "code",
   "execution_count": 5,
   "metadata": {},
   "outputs": [
    {
     "name": "stdout",
     "output_type": "stream",
     "text": [
      "There are 25 total contacts\n",
      "http://www.linkedin.com/in/monica-querzoli-18b7991a\n",
      "\n",
      "connection request sent to http://www.linkedin.com/in/monica-querzoli-18b7991a\n",
      "1\n",
      "http://www.linkedin.com/in/susan-wigert-31076513\n",
      "\n",
      "connection request sent to http://www.linkedin.com/in/susan-wigert-31076513\n",
      "2\n",
      "http://www.linkedin.com/in/fredhoffmeister\n",
      "\n",
      "connection request sent to http://www.linkedin.com/in/fredhoffmeister\n",
      "3\n",
      "http://www.linkedin.com/in/naresh-nick-parmar-52919a38\n",
      "\n",
      "connection request sent to http://www.linkedin.com/in/naresh-nick-parmar-52919a38\n",
      "4\n",
      "http://www.linkedin.com/in/paragonlodging\n",
      "\n",
      "connection request sent to http://www.linkedin.com/in/paragonlodging\n",
      "5\n",
      "http://www.linkedin.com/in/fishermen-s-inn-elburn-3a1555113\n",
      "\n",
      "connection request sent to http://www.linkedin.com/in/fishermen-s-inn-elburn-3a1555113\n",
      "6\n",
      "http://www.linkedin.com/in/laura-draper-a8955a39\n",
      "\n",
      "connection request sent to http://www.linkedin.com/in/laura-draper-a8955a39\n",
      "7\n",
      "http://www.linkedin.com/in/elizabeth-baehr-lopez-11119235\n",
      "\n",
      "connection request sent to http://www.linkedin.com/in/elizabeth-baehr-lopez-11119235\n",
      "8\n",
      "http://www.linkedin.com/in/debra-seger-a71b3612\n",
      "\n",
      "connection request sent to http://www.linkedin.com/in/debra-seger-a71b3612\n",
      "9\n",
      "http://www.linkedin.com/in/blue-sky-cabin-rentals-b83a3565\n",
      "\n",
      "connection request sent to http://www.linkedin.com/in/blue-sky-cabin-rentals-b83a3565\n",
      "10\n",
      "http://www.linkedin.com/in/michael-gassmann-093b3121\n",
      "\n",
      "connection request sent to http://www.linkedin.com/in/michael-gassmann-093b3121\n",
      "11\n",
      "http://www.linkedin.com/in/kay-kimsey-18601310b\n",
      "\n",
      "connection request sent to http://www.linkedin.com/in/kay-kimsey-18601310b\n",
      "12\n",
      "http://www.linkedin.com/in/jessie-yanovsky-3849b384\n",
      "\n",
      "connection request sent to http://www.linkedin.com/in/jessie-yanovsky-3849b384\n",
      "13\n",
      "http://www.linkedin.com/in/ronald-misek-72751484\n",
      "\n",
      "connection request sent to http://www.linkedin.com/in/ronald-misek-72751484\n",
      "14\n",
      "http://www.linkedin.com/in/walt-edgar-659b881a\n",
      "\n",
      "connection request sent to http://www.linkedin.com/in/walt-edgar-659b881a\n",
      "15\n",
      "http://www.linkedin.com/in/manorama-devchand-a7669612\n",
      "\n",
      "connection request sent to http://www.linkedin.com/in/manorama-devchand-a7669612\n",
      "16\n",
      "http://www.linkedin.com/in/deborah-krzeminski-56166514\n",
      "\n",
      "connection request sent to http://www.linkedin.com/in/deborah-krzeminski-56166514\n",
      "17\n",
      "http://www.linkedin.com/in/tracy-lamirato-162071a5\n",
      "\n",
      "connection request sent to http://www.linkedin.com/in/tracy-lamirato-162071a5\n",
      "18\n",
      "http://www.linkedin.com/in/geoff-thompson-90aa6616\n",
      "\n",
      "connection request sent to http://www.linkedin.com/in/geoff-thompson-90aa6616\n",
      "19\n",
      "http://www.linkedin.com/pub/briana-mcgrath/0/960/3a9\n",
      "\n",
      "connection request sent to http://www.linkedin.com/pub/briana-mcgrath/0/960/3a9\n",
      "20\n",
      "http://www.linkedin.com/in/steven-voth-61438397\n",
      "\n",
      "connection request sent to http://www.linkedin.com/in/steven-voth-61438397\n",
      "21\n",
      "http://www.linkedin.com/in/susan-flaccus-2a679812\n",
      "\n",
      "connection request sent to http://www.linkedin.com/in/susan-flaccus-2a679812\n",
      "22\n",
      "http://www.linkedin.com/in/chuck-larsen-02576617\n",
      "\n",
      "connection request sent to http://www.linkedin.com/in/chuck-larsen-02576617\n",
      "23\n",
      "http://www.linkedin.com/in/debbie-byron-898328100\n",
      "\n",
      "connection request sent to http://www.linkedin.com/in/debbie-byron-898328100\n",
      "24\n",
      "http://www.linkedin.com/in/curtis-byron-8b59a620\n",
      "\n",
      "connection request sent to http://www.linkedin.com/in/curtis-byron-8b59a620\n",
      "25\n"
     ]
    }
   ],
   "source": [
    "from time import sleep\n",
    "print(\"There are {} total contacts\".format(len(df)))\n",
    "count = 0\n",
    "total = 25\n",
    "bad_urls = []\n",
    "good_urls = []\n",
    "for idx, url in enumerate(df[\"Person Linkedin Url\"].tolist()):\n",
    "    if count < total:\n",
    "        sleep(3)\n",
    "        driver.get(url)\n",
    "        print(url)\n",
    "\n",
    "        first_name = df[df[\"Person Linkedin Url\"] == url].iloc[0]['First Name']\n",
    "        \n",
    "        prop_type = df[df[\"Person Linkedin Url\"] == url].iloc[0]['prop_type']\n",
    "        \n",
    "        domain = df[df[\"Person Linkedin Url\"] == url].iloc[0]['domain']\n",
    "        \n",
    "        ota_natural = df[df[\"Person Linkedin Url\"] == url].iloc[0]['OTA Natural']\n",
    "\n",
    "        msg1 = \"Hi {}, I came across your {} on {}. Do guests typically book there or through your website?\".format(first_name, prop_type, ota_natural, ota_natural)\n",
    "        \n",
    "        \n",
    "        try: \n",
    "            for elm in driver.find_elements_by_css_selector(\".pv-top-card-section__inline-overflow-button\"):\n",
    "                elm.click()\n",
    "\n",
    "            for elm in driver.find_elements_by_css_selector(\".pv-s-profile-actions--connect\"):\n",
    "                elm.click()\n",
    "\n",
    "            for elm in driver.find_elements_by_css_selector(\".mr1\"):\n",
    "                elm.click()\n",
    "\n",
    "            try:  \n",
    "                driver.find_element_by_id('email').send_keys(email)\n",
    "            except:\n",
    "                print(\"\")\n",
    "\n",
    "            try:  \n",
    "                driver.find_element_by_id('custom-message').send_keys(msg1)\n",
    "\n",
    "                try:\n",
    "                    for elm in driver.find_elements_by_css_selector(\".ml1\"):\n",
    "                        elm.click()\n",
    "                        print(\"connection request sent to {}\".format(url))\n",
    "                        good_urls.append(url)\n",
    "                        count = count + 1\n",
    "                        print(count)\n",
    "                except:\n",
    "                    print(\"connection request didnt work for {}\".format(url))\n",
    "            except:\n",
    "                print(\"cant find CR message box for {}\".format(url))\n",
    "                bad_urls.append(url)\n",
    "\n",
    "\n",
    "\n",
    "        except:\n",
    "            bad_urls.append(url)\n",
    "            print('cant connect to linkedin')"
   ]
  },
  {
   "cell_type": "code",
   "execution_count": 7,
   "metadata": {},
   "outputs": [
    {
     "name": "stdout",
     "output_type": "stream",
     "text": [
      "bad URLs:\n",
      "['http://www.linkedin.com/in/train-resort-09a02660', 'http://www.linkedin.com/in/laurie-mayes-a299721b', 'http://www.linkedin.com/in/jamie-barth-5b697284', 'http://www.linkedin.com/in/kate-burke-chirico-380891a', 'http://www.linkedin.com/in/barbara-stillman-335a7825', 'http://www.linkedin.com/in/suzie-robb-81401712', 'http://www.linkedin.com/in/gail-elnicky-952b3165', 'http://www.linkedin.com/in/lesliefranklinmarketingmanager', 'http://www.linkedin.com/in/jim-mohan-02312021', 'http://www.linkedin.com/in/sarita-vaswani-76a364118', 'http://www.linkedin.com/in/jeff-bundy-6b295343', 'http://www.linkedin.com/in/sue-beach-7420a239', 'http://www.linkedin.com/in/bina-bhakta-7508575a', 'http://www.linkedin.com/in/susan-ringwald-24151124', 'http://www.linkedin.com/in/serapis-neith-b7215327', 'http://www.linkedin.com/in/bill-theresa-garry-7767a344', 'http://www.linkedin.com/in/roberthorky', 'http://www.linkedin.com/in/jeff-quackenbush-06a13711', 'http://www.linkedin.com/in/amy-blume-b7805312', 'http://www.linkedin.com/in/goettsche-family-10433412b', 'http://www.linkedin.com/in/rosa-lee-sheard-134a3617', 'http://www.linkedin.com/in/saiyang1', 'http://www.linkedin.com/in/cheryl-fear-87899751', 'http://www.linkedin.com/in/chris-wiggins-05843823', 'http://www.linkedin.com/in/anetatomaszkiewicz', 'http://www.linkedin.com/in/heather-de-pinho-68bb2011', 'http://www.linkedin.com/in/luann-o-dell-8142b848', 'http://www.linkedin.com/in/archie-kirk-1b953a48', 'http://www.linkedin.com/in/cindy-schneider-8b8b149', 'http://www.linkedin.com/in/melinda-woodward-43063bb6', 'http://www.linkedin.com/in/peter-friend-80255478', 'http://www.linkedin.com/in/mena-partish-1739ba43', 'http://www.linkedin.com/in/elizabethbrooke', 'http://www.linkedin.com/in/jackie-tompkins-ba385124', 'http://www.linkedin.com/pub/jeremy-johnson/112/883/336', 'http://www.linkedin.com/in/tom-tom-tibbitts-94192431', 'http://www.linkedin.com/in/meadowlark-inn-b9833749', 'http://www.linkedin.com/in/mary-jane-kindred-37606636', 'http://www.linkedin.com/in/lori-innkeeper-5214a417', 'http://www.linkedin.com/in/jjmokarzel', 'http://www.linkedin.com/in/bud-wagner-76662b79', 'http://www.linkedin.com/in/carey-barnes-10050146', 'http://www.linkedin.com/in/andy-vakos-911323b0', 'http://www.linkedin.com/in/kelly-ward-rhia-ccs-5284aa3a', 'http://www.linkedin.com/in/beach-resort-61884815', 'http://www.linkedin.com/in/jamie-o-donnell-41179712', 'http://www.linkedin.com/in/kartik-patel-60539913', 'http://www.linkedin.com/in/cathy-mitchell-94674928', 'http://www.linkedin.com/in/kathy-hildreth-5964b935', 'http://www.linkedin.com/in/kj-patel-835b9255', 'http://www.linkedin.com/in/allan-ramsey-0376591b', 'http://www.linkedin.com/in/ron-belanger-76b3b12b', 'http://www.linkedin.com/in/gerri-prentice-b4735166', 'http://www.linkedin.com/in/angie-rapant-8b5aa214', 'http://www.linkedin.com/in/martha-hintz-671a5735', 'http://www.linkedin.com/in/alan-bouziane-33158141', 'http://www.linkedin.com/in/susan-strom-160b529', 'http://www.linkedin.com/in/raymond-deleo-3380b920', 'http://www.linkedin.com/in/suzanne-schell-42481926', 'http://www.linkedin.com/in/earl-hopkins-90544032', 'http://www.linkedin.com/in/kristina-dipanni-a502bb53', 'http://www.linkedin.com/in/gilbert-ashoff-b1aa2ab', 'http://www.linkedin.com/in/gary-hardin-9b484944', 'http://www.linkedin.com/in/tessa-russo-00ba94117', 'http://www.linkedin.com/in/david-hallinger-95741013', 'http://www.linkedin.com/in/english-meadows-inn-28287a12', 'http://www.linkedin.com/in/lynn-lester-6764b314', 'http://www.linkedin.com/in/dolly-moreno-a9194063', 'http://www.linkedin.com/in/crystal-stadel-94528671', 'http://www.linkedin.com/in/port-washington-inn-826b4928', 'http://www.linkedin.com/in/tom-johnson-b478166', 'http://www.linkedin.com/in/crocker-inn-a7a1b439', 'http://www.linkedin.com/in/lesley-carey-4871088', 'http://www.linkedin.com/in/laura-merryman-06611b96', 'http://www.linkedin.com/in/john-bogaert-139500136', 'http://www.linkedin.com/in/hoyt-dottry-61a16472', 'http://www.linkedin.com/in/holly-germano-wohlfarth-391679b', 'http://www.linkedin.com/in/dawn-stenmark-841a424', 'http://www.linkedin.com/in/misty-workman-3978a386', 'http://www.linkedin.com/in/maureen-ellison-3304b027', 'http://www.linkedin.com/in/dwayne-mease-28131915', 'http://www.linkedin.com/in/diana-dodge-021ba627', 'http://www.linkedin.com/in/mery-zambrano-3182ab44', 'http://www.linkedin.com/in/henry-suarez-936387b6', 'http://www.linkedin.com/in/bill-arnone-998a208', 'http://www.linkedin.com/in/carol-gasko-738b0743', 'http://www.linkedin.com/in/stacey-dehaven-14575a54', 'http://www.linkedin.com/in/amber-pfieffer-7577a317', 'http://www.linkedin.com/in/ron-rykken-b6286026', 'http://www.linkedin.com/in/richard-and-peggy-ritenour-0a730b39', 'http://www.linkedin.com/in/joy-tomita-08587535', 'http://www.linkedin.com/in/candee-mccafferty-b903708b', 'http://www.linkedin.com/in/darlene-brinker-18811028', 'http://www.linkedin.com/in/deni-ellis-b495087', 'http://www.linkedin.com/in/michelle-nofziger-646aa240', 'http://www.linkedin.com/in/chuck-schommer-21748a4b', 'http://www.linkedin.com/in/john-thomas-12259088', 'http://www.linkedin.com/in/therese-friedman-02194244', 'http://www.linkedin.com/in/allan-sellers-sellers-allan-93589525', 'http://www.linkedin.com/in/craig-shelton-18367b30', 'http://www.linkedin.com/in/summer-smith-68807310b', 'http://www.linkedin.com/in/lisamarie-l-68ba5a10', 'http://www.linkedin.com/in/nicole-dorfman-217a0b1a', 'http://www.linkedin.com/in/teresakirkland', 'http://www.linkedin.com/in/mike-powers-83a40234', 'http://www.linkedin.com/in/elizabeth-crawford-72482382', 'http://www.linkedin.com/in/susie-and-bryan-harris-15563240', 'http://www.linkedin.com/in/taylor-hamberg-b9258aa4', 'http://www.linkedin.com/in/mark-deguire-46750228', 'http://www.linkedin.com/in/kim-crosby-72463a7', 'http://www.linkedin.com/in/erin-mcgrain-196b7852']\n",
      "111\n",
      "\n",
      "good URLs:\n",
      "['http://www.linkedin.com/in/jessica-wilson-7a59747', 'http://www.linkedin.com/in/kelie-smit-24ab5935', 'http://www.linkedin.com/in/dale-and-susan-wells-46005511', 'http://www.linkedin.com/in/scott-fortin-3807a31a', 'http://www.linkedin.com/in/becky-bex%e2%80%8b-damman-417bb886', 'http://www.linkedin.com/in/vanessa-petersen-pmp-a424717', 'http://www.linkedin.com/in/gayle-elliott-0b52964', 'http://www.linkedin.com/in/karenavery123', 'http://www.linkedin.com/in/carolyn-emigh-a5246817', 'http://www.linkedin.com/in/arun-sharda-4a28183b', 'http://www.linkedin.com/in/todd-cheryl-brown-03699663', 'http://www.linkedin.com/in/brad-stewart-1b24999', 'http://www.linkedin.com/in/steve-mcclendon-48987841', 'http://www.linkedin.com/in/the-grand-beach-inn-old-orchard-beach-01592a43', 'http://www.linkedin.com/in/kurt-tande-60520832', 'http://www.linkedin.com/in/kathy-buysse-44653389', 'http://www.linkedin.com/in/paigeelane', 'http://www.linkedin.com/in/the-hancock-inn-9a861619', 'http://www.linkedin.com/in/anthonyvalentin', 'http://www.linkedin.com/in/marygfowler', 'http://www.linkedin.com/in/stanley-sabens-ii-1a742136', 'http://www.linkedin.com/in/claudia-connors-ba7a3431', 'http://www.linkedin.com/in/trishrobinson', 'http://www.linkedin.com/in/patricia-baird-5538232a', 'http://www.linkedin.com/in/lynn-and-bret-smith-35aba696', 'http://www.linkedin.com/in/michael-waters-321b7a50', 'http://www.linkedin.com/in/pat-tompkins-136a1214', 'http://www.linkedin.com/in/elizabeth-nobregas-61b64241', 'http://www.linkedin.com/in/nicole-richardson-25343031', 'http://www.linkedin.com/in/patsy-nordmark-06a3b25a', 'http://www.linkedin.com/in/linda-bradbrook-768b48a', 'http://www.linkedin.com/in/malcolm-perna-a0b60932', 'http://www.linkedin.com/in/g-giovanni-giammarco-a2135a1a', 'http://www.linkedin.com/in/ann-rowsey-white-547926a3', 'http://www.linkedin.com/in/delain-mccool-946ba716', 'http://www.linkedin.com/in/connie-schulz-74b66319', 'http://www.linkedin.com/in/clarissa-baca-20171338', 'http://www.linkedin.com/in/dee-graham-4184a221', 'http://www.linkedin.com/in/ron-ledesma-5319a142', 'http://www.linkedin.com/in/canyon-road-inn-92161210', 'http://www.linkedin.com/in/jack-and-jane-van-heyst-7935b922', 'http://www.linkedin.com/in/bernard-russo-49461a20', 'http://www.linkedin.com/in/marilyn-krone-897ba0a', 'http://www.linkedin.com/in/the-kenwood-inn-23a60934', 'http://www.linkedin.com/in/laura-sue-mosier-11787929', 'http://www.linkedin.com/in/keith-rankin-a71a1a6a', 'http://www.linkedin.com/in/kristen-dusenberry-36803056', 'http://www.linkedin.com/in/heidi-newland-39b68614', 'http://www.linkedin.com/in/daisy-larios-32216a13', 'http://www.linkedin.com/in/harry-lunt-92ba372', 'http://www.linkedin.com/in/danielle-wilcox-7a5754b2', 'http://www.linkedin.com/in/amber-martin-92144621', 'http://www.linkedin.com/in/lenny-rogers-08548b37', 'http://www.linkedin.com/in/ned-brandt-24767512', 'http://www.linkedin.com/in/kevin-howell-b58a8b74', 'http://www.linkedin.com/in/jeffcospolich', 'http://www.linkedin.com/in/jack-sheer-78916617', 'http://www.linkedin.com/in/cabin-fever-deb-bb0ba235', 'http://www.linkedin.com/in/rocco-defina-9400b2a2', 'http://www.linkedin.com/in/greg-donahue-53a1b432']\n",
      "60\n",
      "\n"
     ]
    }
   ],
   "source": [
    "print(\"bad URLs:\")\n",
    "print(bad_urls)\n",
    "print(len(bad_urls))\n",
    "print(\"\")\n",
    "print(\"good URLs:\")\n",
    "print(good_urls)\n",
    "print(len(good_urls))\n",
    "print(\"\")"
   ]
  },
  {
   "cell_type": "code",
   "execution_count": 8,
   "metadata": {},
   "outputs": [
    {
     "name": "stdout",
     "output_type": "stream",
     "text": [
      "111\n"
     ]
    },
    {
     "data": {
      "text/plain": [
       "60"
      ]
     },
     "execution_count": 8,
     "metadata": {},
     "output_type": "execute_result"
    }
   ],
   "source": [
    "good_df = df[df[\"Person Linkedin Url\"].isin(good_urls)]\n",
    "bad_df = df[df[\"Person Linkedin Url\"].isin(bad_urls)]\n",
    "print(len(bad_df))\n",
    "len(good_df)"
   ]
  },
  {
   "cell_type": "code",
   "execution_count": 9,
   "metadata": {},
   "outputs": [],
   "source": [
    "good_df = good_df + pd.read_csv(\"good-\" + file_name)\n",
    "good_df.to_csv(\"good-\" + file_name)\n",
    "bad_df = good_df + pd.read_csv(\"bad-\" + file_name)\n",
    "bad_df.to_csv(\"bad-\" + file_name)"
   ]
  },
  {
   "cell_type": "code",
   "execution_count": 10,
   "metadata": {},
   "outputs": [],
   "source": [
    "df = df[~df[\"Person Linkedin Url\"].isin(bad_urls)]\n",
    "df = df[~df[\"Person Linkedin Url\"].isin(good_urls)]"
   ]
  },
  {
   "cell_type": "code",
   "execution_count": 11,
   "metadata": {},
   "outputs": [
    {
     "data": {
      "text/plain": [
       "25"
      ]
     },
     "execution_count": 11,
     "metadata": {},
     "output_type": "execute_result"
    }
   ],
   "source": [
    "len(df)"
   ]
  },
  {
   "cell_type": "code",
   "execution_count": 12,
   "metadata": {},
   "outputs": [],
   "source": [
    "df.to_csv(file_name)"
   ]
  },
  {
   "cell_type": "code",
   "execution_count": null,
   "metadata": {},
   "outputs": [],
   "source": []
  },
  {
   "cell_type": "code",
   "execution_count": null,
   "metadata": {},
   "outputs": [],
   "source": []
  },
  {
   "cell_type": "code",
   "execution_count": null,
   "metadata": {},
   "outputs": [],
   "source": []
  },
  {
   "cell_type": "code",
   "execution_count": null,
   "metadata": {},
   "outputs": [],
   "source": []
  },
  {
   "cell_type": "code",
   "execution_count": null,
   "metadata": {},
   "outputs": [],
   "source": []
  },
  {
   "cell_type": "code",
   "execution_count": null,
   "metadata": {},
   "outputs": [],
   "source": []
  },
  {
   "cell_type": "code",
   "execution_count": null,
   "metadata": {},
   "outputs": [],
   "source": []
  },
  {
   "cell_type": "code",
   "execution_count": null,
   "metadata": {},
   "outputs": [],
   "source": []
  },
  {
   "cell_type": "code",
   "execution_count": null,
   "metadata": {},
   "outputs": [],
   "source": []
  }
 ],
 "metadata": {
  "kernelspec": {
   "display_name": "Python 3",
   "language": "python",
   "name": "python3"
  },
  "language_info": {
   "codemirror_mode": {
    "name": "ipython",
    "version": 3
   },
   "file_extension": ".py",
   "mimetype": "text/x-python",
   "name": "python",
   "nbconvert_exporter": "python",
   "pygments_lexer": "ipython3",
   "version": "3.6.5"
  }
 },
 "nbformat": 4,
 "nbformat_minor": 2
}
