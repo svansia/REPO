{
 "cells": [
  {
   "cell_type": "code",
   "execution_count": 1,
   "metadata": {},
   "outputs": [],
   "source": [
    "from selenium import webdriver\n",
    "from selenium.webdriver.common.action_chains import ActionChains\n",
    "import time\n",
    "import math\n",
    "from selenium.common.exceptions import NoSuchElementException,StaleElementReferenceException\n",
    "import pandas as pd\n",
    "options = webdriver.ChromeOptions()\n",
    "options.add_argument('window-size=1200x600')\n",
    "driver = webdriver.Chrome(chrome_options=options)"
   ]
  },
  {
   "cell_type": "code",
   "execution_count": 2,
   "metadata": {},
   "outputs": [],
   "source": [
    "def sign_in(name, passcode):\n",
    "    driver.get('https://www.linkedin.com/uas/login')\n",
    "    username = driver.find_element_by_id('session_key-login')\n",
    "    password = driver.find_element_by_id('session_password-login')\n",
    "    username.send_keys(name)\n",
    "    password.send_keys(passcode)\n",
    "    driver.find_element_by_name(\"signin\").click()\n"
   ]
  },
  {
   "cell_type": "code",
   "execution_count": 3,
   "metadata": {},
   "outputs": [],
   "source": [
    "\n",
    "def purge(num):\n",
    "\n",
    "    def scroll_to_end_of_page():\n",
    "        scrolled_amount = 0\n",
    "        height = driver.execute_script(\"return document.body.scrollHeight\")\n",
    "        while scrolled_amount < height:\n",
    "            scrolled_amount+=100\n",
    "            driver.execute_script(\"window.scrollTo(0, %s);\" % scrolled_amount)\n",
    "            time.sleep(0.2)\n",
    "            height = driver.execute_script(\"return document.body.scrollHeight\")\n",
    "\n",
    "    def get_last_page():\n",
    "        total_pending = driver.find_element_by_xpath(\"//label[@class='m0 inline-block']\").text\n",
    "        num = total_pending.split(\" \")[3]\n",
    "        last_page_num = (math.ceil(int(num)/100.0))\n",
    "        link = \"https://www.linkedin.com/mynetwork/invitation-manager/sent/?page=\" + str(last_page_num)\n",
    "        driver.get(link)\n",
    "    \n",
    "    def withdraw():\n",
    "        button = driver.find_element_by_xpath('//ul[@class=\"mn-invitation-list\"]/li[position() = (last())]//button')\n",
    "        button.click()\n",
    "        time.sleep(3)\n",
    "    \n",
    "    driver.get(\"https://www.linkedin.com/mynetwork/invitation-manager/sent/\")\n",
    "    time.sleep(2)\n",
    "    counter = 0\n",
    "    purge_num = num\n",
    "    get_last_page()\n",
    "    scroll_to_end_of_page()\n",
    "    while counter < purge_num:\n",
    "            withdraw()\n",
    "            counter+= 1\n",
    "    driver.get(\"https://www.linkedin.com/feed/?trk=\")"
   ]
  },
  {
   "cell_type": "code",
   "execution_count": null,
   "metadata": {},
   "outputs": [],
   "source": [
    "# Provide username + password details to login\n",
    "sign_in('ryan@growthgenius.com', 'Gr0wthP1ease1!')\n",
    "\n",
    "# Provide num of ppl to purge (<99)\n",
    "purge(2)\n"
   ]
  },
  {
   "cell_type": "code",
   "execution_count": null,
   "metadata": {},
   "outputs": [],
   "source": []
  },
  {
   "cell_type": "code",
   "execution_count": null,
   "metadata": {},
   "outputs": [],
   "source": []
  }
 ],
 "metadata": {
  "kernelspec": {
   "display_name": "Python 3",
   "language": "python",
   "name": "python3"
  },
  "language_info": {
   "codemirror_mode": {
    "name": "ipython",
    "version": 3
   },
   "file_extension": ".py",
   "mimetype": "text/x-python",
   "name": "python",
   "nbconvert_exporter": "python",
   "pygments_lexer": "ipython3",
   "version": "3.7.0"
  }
 },
 "nbformat": 4,
 "nbformat_minor": 2
}
