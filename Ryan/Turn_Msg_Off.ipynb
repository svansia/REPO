{
 "cells": [
  {
   "cell_type": "code",
   "execution_count": 9,
   "metadata": {},
   "outputs": [],
   "source": [
    "from selenium import webdriver\n",
    "import time\n",
    "from selenium.common.exceptions import NoSuchElementException,StaleElementReferenceException\n",
    "import pandas as pd\n",
    "\n",
    "\n",
    "options = webdriver.ChromeOptions()\n",
    "\n",
    "# options.add_argument('headless')\n",
    "\n",
    "# set the window size\n",
    "options.add_argument('window-size=1200x600')\n",
    "\n",
    "# initialize the driver\n",
    "driver = webdriver.Chrome(chrome_options=options)\n",
    "\n",
    "# https://www.linkedin.com/uas/login\n",
    "driver.get('https://www.linkedin.com/uas/login')\n",
    "\n",
    "username = driver.find_element_by_id('session_key-login')\n",
    "password = driver.find_element_by_id('session_password-login')\n",
    "\n",
    "\n",
    "username.send_keys('srvansia@edu.uwaterloo.ca')\n",
    "password.send_keys('!eat@2468')\n",
    "driver.find_element_by_name(\"signin\").click()\n",
    "\n",
    "# Upon login, clicks msg settings\n",
    "driver.find_element_by_css_selector('.msg-overlay-bubble-header__control.msg-overlay-bubble-header__control--settings-btn').click()\n",
    "# Clicks the toggle button\n",
    "\n",
    "def check_exists_by_xpath(xpath):\n",
    "    try:\n",
    "        driver.find_element_by_xpath(xpath)\n",
    "    except NoSuchElementException:\n",
    "        off_but = driver.find_element_by_xpath(\"//div[@class='toggle-24dp ember-view']\")\n",
    "        off_but.click()    \n",
    "\n",
    "\n",
    "\n",
    "xpath = \"//artdeco-hovercard-content[@id = 'artdeco-hoverable-artdeco-gen-42']//input[@data-control-name='overlay.instant_messaging_setting_on']\"\n",
    "check_exists_by_xpath(xpath)\n",
    "\n",
    "\n",
    "\n",
    "driver.get(\"https://www.linkedin.com/in/shivanivashi27/\")\n",
    "\n",
    "\n",
    "\n"
   ]
  },
  {
   "cell_type": "code",
   "execution_count": null,
   "metadata": {},
   "outputs": [],
   "source": []
  },
  {
   "cell_type": "code",
   "execution_count": null,
   "metadata": {},
   "outputs": [],
   "source": []
  }
 ],
 "metadata": {
  "kernelspec": {
   "display_name": "Python 3",
   "language": "python",
   "name": "python3"
  },
  "language_info": {
   "codemirror_mode": {
    "name": "ipython",
    "version": 3
   },
   "file_extension": ".py",
   "mimetype": "text/x-python",
   "name": "python",
   "nbconvert_exporter": "python",
   "pygments_lexer": "ipython3",
   "version": "3.7.0"
  }
 },
 "nbformat": 4,
 "nbformat_minor": 2
}
