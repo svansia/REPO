{
 "cells": [
  {
   "cell_type": "code",
   "execution_count": 2,
   "metadata": {},
   "outputs": [],
   "source": [
    "from selenium import webdriver\n",
    "from selenium.webdriver.common.action_chains import ActionChains\n",
    "import time\n",
    "import math\n",
    "from selenium.common.exceptions import NoSuchElementException,StaleElementReferenceException\n",
    "import pandas as pd\n",
    "\n",
    "\n",
    "options = webdriver.ChromeOptions()\n",
    "\n",
    "# options.add_argument('headless')\n",
    "\n",
    "# set the window size\n",
    "options.add_argument('window-size=1200x600')\n",
    "\n",
    "# initialize the driver\n",
    "driver = webdriver.Chrome(chrome_options=options)\n",
    "\n",
    "# https://www.linkedin.com/uas/login\n",
    "driver.get('https://www.linkedin.com/uas/login')\n",
    "\n",
    "username = driver.find_element_by_id('session_key-login')\n",
    "password = driver.find_element_by_id('session_password-login')\n",
    "\n",
    "username.send_keys('ryan@growthgenius.com')\n",
    "password.send_keys('Gr0wthP1ease1!')\n",
    "# username.send_keys('srvansia@edu.uwaterloo.ca')\n",
    "# password.send_keys('!eat@2468')\n",
    "driver.find_element_by_name(\"signin\").click()\n",
    "\n"
   ]
  },
  {
   "cell_type": "code",
   "execution_count": 21,
   "metadata": {},
   "outputs": [],
   "source": [
    "def scroll_to_end_of_page():\n",
    "    scrolled_amount = 0\n",
    "    height = driver.execute_script(\"return document.body.scrollHeight\")\n",
    "    while scrolled_amount < height:\n",
    "        scrolled_amount+=100\n",
    "        driver.execute_script(\"window.scrollTo(0, %s);\" % scrolled_amount)\n",
    "        time.sleep(0.2)\n",
    "        height = driver.execute_script(\"return document.body.scrollHeight\")"
   ]
  },
  {
   "cell_type": "code",
   "execution_count": 22,
   "metadata": {},
   "outputs": [],
   "source": [
    "def get_last_page():\n",
    "    total_pending = driver.find_element_by_xpath(\"//label[@class='m0 inline-block']\").text\n",
    "    num = total_pending.split(\" \")[3]\n",
    "    last_page_num = (math.ceil(int(num)/100.0))\n",
    "    link = \"https://www.linkedin.com/mynetwork/invitation-manager/sent/?page=\" + str(last_page_num)\n",
    "    driver.get(link)"
   ]
  },
  {
   "cell_type": "code",
   "execution_count": 23,
   "metadata": {},
   "outputs": [],
   "source": [
    "def get_request_limit():\n",
    "    total_connections = driver.find_element_by_xpath(\"//h3[@class='mn-connections-summary__count Sans-34px-black-85% mt3']\").text\n",
    "    request_limit = int(int(float(total_connections.replace(',', '')))*0.1)\n",
    "    return request_limit"
   ]
  },
  {
   "cell_type": "code",
   "execution_count": 24,
   "metadata": {},
   "outputs": [],
   "source": [
    "def withdraw():\n",
    "    button = driver.find_element_by_xpath('//ul[@class=\"mn-invitation-list\"]/li[position() = (last())]//button')\n",
    "    button.click()\n",
    "    time.sleep(1)"
   ]
  },
  {
   "cell_type": "code",
   "execution_count": 25,
   "metadata": {},
   "outputs": [
    {
     "ename": "KeyboardInterrupt",
     "evalue": "",
     "output_type": "error",
     "traceback": [
      "\u001b[0;31m---------------------------------------------------------------------------\u001b[0m",
      "\u001b[0;31mKeyboardInterrupt\u001b[0m                         Traceback (most recent call last)",
      "\u001b[0;32m<ipython-input-25-0fa4838ca9a9>\u001b[0m in \u001b[0;36m<module>\u001b[0;34m()\u001b[0m\n\u001b[1;32m      8\u001b[0m \u001b[0mscroll_to_end_of_page\u001b[0m\u001b[0;34m(\u001b[0m\u001b[0;34m)\u001b[0m\u001b[0;34m\u001b[0m\u001b[0m\n\u001b[1;32m      9\u001b[0m \u001b[0;32mwhile\u001b[0m \u001b[0mi\u001b[0m \u001b[0;34m<\u001b[0m \u001b[0mt\u001b[0m\u001b[0;34m:\u001b[0m\u001b[0;34m\u001b[0m\u001b[0m\n\u001b[0;32m---> 10\u001b[0;31m         \u001b[0mwithdraw\u001b[0m\u001b[0;34m(\u001b[0m\u001b[0;34m)\u001b[0m\u001b[0;34m\u001b[0m\u001b[0m\n\u001b[0m\u001b[1;32m     11\u001b[0m         \u001b[0mi\u001b[0m\u001b[0;34m+=\u001b[0m \u001b[0;36m1\u001b[0m\u001b[0;34m\u001b[0m\u001b[0m\n\u001b[1;32m     12\u001b[0m \u001b[0;34m\u001b[0m\u001b[0m\n",
      "\u001b[0;32m<ipython-input-24-15d4e40b52b9>\u001b[0m in \u001b[0;36mwithdraw\u001b[0;34m()\u001b[0m\n\u001b[1;32m      2\u001b[0m     \u001b[0mbutton\u001b[0m \u001b[0;34m=\u001b[0m \u001b[0mdriver\u001b[0m\u001b[0;34m.\u001b[0m\u001b[0mfind_element_by_xpath\u001b[0m\u001b[0;34m(\u001b[0m\u001b[0;34m'//ul[@class=\"mn-invitation-list\"]/li[position() = (last())]//button'\u001b[0m\u001b[0;34m)\u001b[0m\u001b[0;34m\u001b[0m\u001b[0m\n\u001b[1;32m      3\u001b[0m     \u001b[0mbutton\u001b[0m\u001b[0;34m.\u001b[0m\u001b[0mclick\u001b[0m\u001b[0;34m(\u001b[0m\u001b[0;34m)\u001b[0m\u001b[0;34m\u001b[0m\u001b[0m\n\u001b[0;32m----> 4\u001b[0;31m     \u001b[0mtime\u001b[0m\u001b[0;34m.\u001b[0m\u001b[0msleep\u001b[0m\u001b[0;34m(\u001b[0m\u001b[0;36m5\u001b[0m\u001b[0;34m)\u001b[0m\u001b[0;34m\u001b[0m\u001b[0m\n\u001b[0m",
      "\u001b[0;31mKeyboardInterrupt\u001b[0m: "
     ]
    }
   ],
   "source": [
    "driver.get(\"https://www.linkedin.com/mynetwork/invitation-manager/sent/\")\n",
    "time.sleep(2)\n",
    "\n",
    "i = 0\n",
    "t = 10\n",
    "get_last_page()\n",
    "scroll_to_end_of_page()\n",
    "while i < t:\n",
    "        withdraw()\n",
    "        i+= 1\n",
    "    \n",
    "# EXAMPLE\n",
    "# counter = 0\n",
    "# ppl_to_purge = 103\n",
    "\n",
    "# if ppl_to_purge > 99:\n",
    "#     while counter < ppl_to_purge:\n",
    "#         get_last_page()\n",
    "#         scroll_to_end_of_page()\n",
    "#         i = 0\n",
    "#         while i < 99:\n",
    "#             withdraw()\n",
    "#             i+= 1\n",
    "#             counter +=1\n",
    "#             if i = 99 and counter< ppl_to_purge:\n",
    "# #                  call the whole thing again\n",
    "#             else \n",
    "#                 break\n",
    "# else:\n",
    "#     scroll_to_end_of_page()\n",
    "#     while counter < ppl_to_purge:\n",
    "#         withdraw()\n",
    "#         counter +=1\n",
    "\n",
    "# print(\"Done!\")            \n",
    "\n",
    "# else:\n",
    "#     remaining = request_limit - int(num)\n",
    "#     print(\"Can still send \" + str(remaining) + \"requests!\")\n"
   ]
  },
  {
   "cell_type": "code",
   "execution_count": null,
   "metadata": {},
   "outputs": [],
   "source": []
  },
  {
   "cell_type": "code",
   "execution_count": null,
   "metadata": {},
   "outputs": [],
   "source": []
  },
  {
   "cell_type": "code",
   "execution_count": null,
   "metadata": {},
   "outputs": [],
   "source": []
  }
 ],
 "metadata": {
  "kernelspec": {
   "display_name": "Python 3",
   "language": "python",
   "name": "python3"
  },
  "language_info": {
   "codemirror_mode": {
    "name": "ipython",
    "version": 3
   },
   "file_extension": ".py",
   "mimetype": "text/x-python",
   "name": "python",
   "nbconvert_exporter": "python",
   "pygments_lexer": "ipython3",
   "version": "3.7.0"
  }
 },
 "nbformat": 4,
 "nbformat_minor": 2
}
