{
 "cells": [
  {
   "cell_type": "code",
   "execution_count": 39,
   "metadata": {},
   "outputs": [],
   "source": [
    "from selenium import webdriver\n",
    "import time\n",
    "\n",
    "options = webdriver.ChromeOptions()\n",
    "\n",
    "# options.add_argument('headless')\n",
    "\n",
    "# set the window size\n",
    "options.add_argument('window-size=1200x600')\n",
    "\n",
    "# initialize the driver\n",
    "driver = webdriver.Chrome(chrome_options=options)\n",
    "\n",
    "# https://www.linkedin.com/uas/login\n",
    "driver.get('https://www.linkedin.com/uas/login')\n",
    "\n",
    "username = driver.find_element_by_id('session_key-login')\n",
    "password = driver.find_element_by_id('session_password-login')\n",
    "\n",
    "username.send_keys('ryan@growthgenius.com')\n",
    "password.send_keys('Gr0wthP1ease1!')\n",
    "\n",
    "driver.find_element_by_name(\"signin\").click()\n",
    "\n",
    "import pandas as pd\n",
    "df = pd.read_csv(\"GG Outbound LinkedIn (Ryan).csv\")\n",
    "\n"
   ]
  },
  {
   "cell_type": "code",
   "execution_count": 40,
   "metadata": {},
   "outputs": [
    {
     "ename": "KeyboardInterrupt",
     "evalue": "",
     "output_type": "error",
     "traceback": [
      "\u001b[0;31m---------------------------------------------------------------------------\u001b[0m",
      "\u001b[0;31mKeyboardInterrupt\u001b[0m                         Traceback (most recent call last)",
      "\u001b[0;32m<ipython-input-40-36ada631eedc>\u001b[0m in \u001b[0;36m<module>\u001b[0;34m()\u001b[0m\n\u001b[1;32m      4\u001b[0m     \u001b[0;32mif\u001b[0m \u001b[0mi\u001b[0m \u001b[0;34m<\u001b[0m \u001b[0mt\u001b[0m\u001b[0;34m:\u001b[0m\u001b[0;34m\u001b[0m\u001b[0m\n\u001b[1;32m      5\u001b[0m         \u001b[0mdriver\u001b[0m\u001b[0;34m.\u001b[0m\u001b[0mget\u001b[0m\u001b[0;34m(\u001b[0m\u001b[0mx\u001b[0m\u001b[0;34m)\u001b[0m\u001b[0;34m\u001b[0m\u001b[0m\n\u001b[0;32m----> 6\u001b[0;31m         \u001b[0mtime\u001b[0m\u001b[0;34m.\u001b[0m\u001b[0msleep\u001b[0m\u001b[0;34m(\u001b[0m\u001b[0;36m10\u001b[0m\u001b[0;34m)\u001b[0m\u001b[0;34m\u001b[0m\u001b[0m\n\u001b[0m\u001b[1;32m      7\u001b[0m         \u001b[0mi\u001b[0m \u001b[0;34m+=\u001b[0m \u001b[0;36m1\u001b[0m\u001b[0;34m\u001b[0m\u001b[0m\n\u001b[1;32m      8\u001b[0m         \u001b[0;32mtry\u001b[0m\u001b[0;34m:\u001b[0m\u001b[0;34m\u001b[0m\u001b[0m\n",
      "\u001b[0;31mKeyboardInterrupt\u001b[0m: "
     ]
    }
   ],
   "source": [
    "i = 0\n",
    "t = 20\n",
    "for x in df[\"Person Linkedin Url\"].tolist():\n",
    "    if i < t:\n",
    "        driver.get(x)\n",
    "        time.sleep(10)\n",
    "        i += 1\n",
    "        try:\n",
    "            name = driver.find_element_by_xpath(\"//h1[@class='pv-top-card-section__name Sans-26px-black-85%']\").text\n",
    "            connection = driver.find_element_by_xpath(\"//span[@class = 'dist-value']\").text\n",
    "            headline = driver.find_element_by_xpath(\"//h2[@class='pv-top-card-section__headline mt1 Sans-19px-black-85%']\").text      \n",
    "            location = driver.find_element_by_xpath(\"//h3[@class='pv-top-card-section__location Sans-17px-black-55%-dense mt1 inline-block']\").text\n",
    "            description = driver.find_element_by_xpath(\"//div[@class='pv-top-card-section__summary pv-top-card-section__summary--with-content mt4 ember-view']/p\").text\n",
    "            \n",
    "            #Present Company Info\n",
    "            pres = driver.find_element_by_xpath(\"//section[@id = 'experience-section']/ul/li[1]\").text\n",
    "            \n",
    "            #Past company info            \n",
    "            past = driver.find_element_by_xpath(\"//section[@id = 'experience-section']/ul/li[2]\").text\n",
    "            \n",
    "            #Education\n",
    "            edu = driver.find_element_by_xpath(\"//section[@id = 'education-section']/ul/li[1]\").text\n",
    "            \n",
    "            #Skills & Endorsements\n",
    "            skills = driver.find_element_by_xpath(\"//ol[@class='pv-skill-categories-section__top-skills pv-profile-section__section-info section-info pb4']\").text \n",
    "            \n",
    "            #Interests\n",
    "            interest = driver.find_element_by_css_selector('.pv-interests-section')\n",
    "#             (\"//ul[@class = 'pv-profile-section__section-info section-info display-flex justify-flex-start overflow-hidden']/li[1]/a/div/h3/span\").text\n",
    "            print(interest)\n",
    "        except:\n",
    "            pass\n",
    "\n"
   ]
  },
  {
   "cell_type": "code",
   "execution_count": null,
   "metadata": {},
   "outputs": [],
   "source": []
  }
 ],
 "metadata": {
  "kernelspec": {
   "display_name": "Python 3",
   "language": "python",
   "name": "python3"
  },
  "language_info": {
   "codemirror_mode": {
    "name": "ipython",
    "version": 3
   },
   "file_extension": ".py",
   "mimetype": "text/x-python",
   "name": "python",
   "nbconvert_exporter": "python",
   "pygments_lexer": "ipython3",
   "version": "3.7.0"
  }
 },
 "nbformat": 4,
 "nbformat_minor": 2
}
